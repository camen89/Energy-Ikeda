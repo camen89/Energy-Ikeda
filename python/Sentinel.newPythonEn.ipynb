{
 "cells": [
  {
   "cell_type": "markdown",
   "id": "365c2dd4-56cf-4052-9d56-36d654839218",
   "metadata": {},
   "source": [
    "# Sentinel-2などへのアクセス方法について  \n",
    "- [参考note](https://note.com/smartagri/n/n57ab1dd47da6#c068a32d-20cc-4ba1-9c03-e8b554d6440c)\n",
    "- [公式ガイドgithub](https://github.com/eu-cdse/notebook-samples/blob/c0e0ade601973c5d4e4bf66a13c0b76ebb099805/sentinelhub/migration_from_scihub_guide.ipynb)"
   ]
  },
  {
   "cell_type": "markdown",
   "id": "7e4ffb0b-784a-4f4d-a273-ec33382a3e7e",
   "metadata": {},
   "source": [
    "## 最終行の`from utils import plot_image`でエラーが出る時の対処法  \n",
    "\n",
    "[参考](https://ja.stackoverflow.com/questions/49412/%E3%82%B3%E3%83%BC%E3%83%89%E3%82%92jupyter-notebook%E3%81%AE%E3%83%95%E3%82%A1%E3%82%A4%E3%83%AB%E3%81%AB%E4%BF%9D%E5%AD%98%E3%81%97%E3%81%A6import%E3%81%99%E3%82%8B%E3%81%A8%E3%82%A8%E3%83%A9%E3%83%BC%E3%81%AB%E3%81%AA%E3%82%8B)  \n",
    "1. [github](https://github.com/eu-cdse/notebook-samples/blob/c0e0ade601973c5d4e4bf66a13c0b76ebb099805/sentinelhub/migration_from_scihub_guide.ipynb)\n",
    "  のutils.pyを直接読み込む  \n",
    "2. TextFileでutil.pyを作成し、コードをコピペする。  \n",
    "   コードの中身 \n",
    "   ```python  \n",
    "   \"\"\"\n",
    "    Utilities used by example notebooks\n",
    "    \"\"\"\n",
    "\n",
    "    from __future__ import annotations\n",
    "\n",
    "    from typing import Any\n",
    "\n",
    "    import matplotlib.pyplot as plt\n",
    "    import numpy as np\n",
    "\n",
    "\n",
    "    def plot_image(\n",
    "    image: np.ndarray, factor: float = 1.0, clip_range: tuple[float, float] | None = None, **kwargs: Any\n",
    "    ) -> None:\n",
    "    \"\"\"Utility function for plotting RGB images.\"\"\"\n",
    "    _, ax = plt.subplots(nrows=1, ncols=1, figsize=(15, 15))\n",
    "    if clip_range is not None:\n",
    "        ax.imshow(np.clip(image * factor, *clip_range), **kwargs)\n",
    "    else:\n",
    "        ax.imshow(image * factor, **kwargs)\n",
    "    ax.set_xticks([])\n",
    "    ax.set_yticks([])  \n",
    "    \n",
    "    ```"
   ]
  },
  {
   "cell_type": "code",
   "execution_count": 1,
   "id": "835d7a29-3876-450e-835f-a2d60def08d5",
   "metadata": {},
   "outputs": [],
   "source": [
    "import os\n",
    "import datetime\n",
    "import numpy as np\n",
    "import matplotlib.pyplot as plt\n",
    "import pandas as pd\n",
    "import requests\n",
    "\n",
    "from sentinelhub import (SHConfig, DataCollection, SentinelHubCatalog, SentinelHubRequest, BBox, bbox_to_dimensions, CRS, MimeType, Geometry)\n",
    "\n",
    "import sys\n",
    "sys.path.append('C:\\\\Users\\\\****')  # utils.py のあるディレクトリをパスに追加\n",
    "\n",
    "from utils import plot_image"
   ]
  },
  {
   "cell_type": "markdown",
   "id": "f035532e-9a55-4cd1-bfe6-ede9bcc04b61",
   "metadata": {},
   "source": [
    "- `import requests`を最初の行に追加"
   ]
  },
  {
   "cell_type": "code",
   "execution_count": 4,
   "id": "6402bc1a-59a8-4e08-b50a-b63a104592ab",
   "metadata": {},
   "outputs": [],
   "source": [
    "# 必要なモジュールをインポート\n",
    "import requests\n",
    "\n",
    "# Import credentials\n",
    "from creds import *\n",
    "\n",
    "def get_keycloak(username: str, password: str) -> str:\n",
    "    data = {\n",
    "        \"client_id\": \"cdse-public\",\n",
    "        \"username\": username,\n",
    "        \"password\": password,\n",
    "        \"grant_type\": \"password\",\n",
    "        }\n",
    "    try:\n",
    "        r = requests.post(\"https://identity.dataspace.copernicus.eu/auth/realms/CDSE/protocol/openid-connect/token\",\n",
    "        data=data,\n",
    "        )\n",
    "        r.raise_for_status()\n",
    "    except Exception as e:\n",
    "        raise Exception(\n",
    "            f\"Keycloak token creation failed. Reponse from the server was: {r.json()}\"\n",
    "            )\n",
    "    return r.json()[\"access_token\"]\n",
    "        \n",
    "\n",
    "keycloak_token = get_keycloak(username, password)"
   ]
  }
 ],
 "metadata": {
  "kernelspec": {
   "display_name": "newPythonEn",
   "language": "python",
   "name": "newpythonen"
  },
  "language_info": {
   "codemirror_mode": {
    "name": "ipython",
    "version": 3
   },
   "file_extension": ".py",
   "mimetype": "text/x-python",
   "name": "python",
   "nbconvert_exporter": "python",
   "pygments_lexer": "ipython3",
   "version": "3.12.2"
  }
 },
 "nbformat": 4,
 "nbformat_minor": 5
}
